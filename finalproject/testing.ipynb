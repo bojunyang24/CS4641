{
 "cells": [
  {
   "cell_type": "code",
   "execution_count": 504,
   "metadata": {},
   "outputs": [],
   "source": [
    "import numpy as np\n",
    "import pandas as pd\n",
    "import os.path, matplotlib\n",
    "import matplotlib.pyplot\n",
    "from mpl_toolkits.mplot3d import Axes3D\n",
    "from sklearn.model_selection import train_test_split\n",
    "from sklearn.preprocessing import StandardScaler\n",
    "from sklearn import linear_model\n",
    "from sklearn.decomposition import PCA\n",
    "from sklearn.svm import SVC\n",
    "from sklearn.svm import LinearSVC\n",
    "from sklearn.multiclass import OneVsRestClassifier\n",
    "from sklearn.model_selection import GridSearchCV\n",
    "from sklearn.ensemble import RandomForestClassifier\n",
    "from sklearn.model_selection import cross_val_score\n",
    "from sklearn.neural_network import MLPClassifier\n",
    "from matplotlib import pyplot as plt\n",
    "import pickle\n",
    "import time"
   ]
  },
  {
   "cell_type": "code",
   "execution_count": 505,
   "metadata": {},
   "outputs": [],
   "source": [
    "def preprocess_data(data, center=True):\n",
    "    '''\n",
    "    centers and splits the data for testing and training\n",
    "    returns x_train, x_test, y_train, y_test\n",
    "    '''\n",
    "    label = data.label\n",
    "    df = data.drop(['label','filename'], axis=1)\n",
    "    if center:\n",
    "        scaler = StandardScaler()\n",
    "        scaler.fit(df)\n",
    "        df = scaler.transform(df)\n",
    "    return train_test_split(df, label, test_size=0.5)"
   ]
  },
  {
   "cell_type": "code",
   "execution_count": 506,
   "metadata": {},
   "outputs": [],
   "source": [
    "def gridsearch(classifier, params, x_train, y_train, name=\"Test_\"):\n",
    "    '''\n",
    "    Uses GridSearchCV to tune hyperparameters and saves the GridSearchCV results\n",
    "    Trains the classifier with the best parameters and scores the model\n",
    "    '''\n",
    "    start_time = time.time()\n",
    "    clf = GridSearchCV(classifier, params, n_jobs=-1, cv=10)\n",
    "    grid = clf.fit(x_train, y_train)\n",
    "    print(\"GridSearchCV elapsed time: {}\".format(time.time() - start_time))\n",
    "\n",
    "    # best_params = grid.best_params_\n",
    "    # best_score = grid.best_score_\n",
    "    # print(\"{}GridSearch \\nBest params: {} \\nScore: {}\".format(name, best_params, best_score))\n",
    "    \n",
    "    # Saves GridSearch Result\n",
    "    filename = \"{}GridSearch.sav\".format(name)\n",
    "    pickle.dump(grid, open(filename, 'wb'))\n",
    "    return grid"
   ]
  },
  {
   "cell_type": "code",
   "execution_count": 507,
   "metadata": {},
   "outputs": [],
   "source": [
    "def rfc(data, center=True):\n",
    "    '''\n",
    "    Uses GridSearchCV to tune hyperparameters for RandomForestClassification\n",
    "    Saves the grid results to a pickle\n",
    "    '''\n",
    "    x_train, x_test, y_train, y_test = preprocess_data(data)\n",
    "    n_estimators = [int(x) for x in np.linspace(start = 10, stop = 500, num = 5)]\n",
    "    max_depth = [int(x) for x in np.linspace(start = 10, stop = 500, num = 5)]\n",
    "    max_features = ['sqrt','log2', None]\n",
    "    params = {\n",
    "        'n_estimators': n_estimators,\n",
    "        'max_depth': max_depth,\n",
    "        'max_features': max_features,\n",
    "    }\n",
    "    grid = gridsearch(RandomForestClassifier(), params, x_train, y_train, name=\"RandomForest_\")\n",
    "    return grid, x_train, x_test, y_train, y_test"
   ]
  },
  {
   "cell_type": "code",
   "execution_count": 508,
   "metadata": {},
   "outputs": [],
   "source": [
    "data = pd.read_csv('data/data.csv')"
   ]
  },
  {
   "cell_type": "code",
   "execution_count": null,
   "metadata": {},
   "outputs": [],
   "source": [
    "rfc_grid = rfc(data)"
   ]
  },
  {
   "cell_type": "code",
   "execution_count": 509,
   "metadata": {},
   "outputs": [],
   "source": [
    "def non_linear_svm(data, center=True):\n",
    "    x_train, x_test, y_train, y_test = preprocess_data(data)\n",
    "    C = np.logspace(-2, 4, 7)\n",
    "    gamma = np.logspace(-3, 3, 7)\n",
    "    kernel = ['poly', 'rbf', 'sigmoid']\n",
    "    params = {\n",
    "        'C': C,\n",
    "        'gamma': gamma,\n",
    "        'kernel': kernel,\n",
    "    }\n",
    "    grid = gridsearch(SVC(), params, x_train, y_train, name=\"NonLinearSVC_\")\n",
    "    return grid, x_train, x_test, y_train, y_test"
   ]
  },
  {
   "cell_type": "code",
   "execution_count": 511,
   "metadata": {},
   "outputs": [
    {
     "name": "stdout",
     "output_type": "stream",
     "text": [
      "GridSearchCV elapsed time: 6.570861101150513\n"
     ]
    }
   ],
   "source": [
    "svm_grid, x_train, x_test, y_train, y_test = non_linear_svm(data)\n",
    "svm_res = svm_grid.cv_results_"
   ]
  },
  {
   "cell_type": "code",
   "execution_count": 215,
   "metadata": {},
   "outputs": [],
   "source": [
    "rfc_grid = pickle.load(open('RandomForest0_GridSearch.sav', 'rb'))\n",
    "svm_grid = pickle.load(open('NonLinearSVC0_GridSearch.sav', 'rb'))\n",
    "rfc_res = rfc_grid.cv_results_\n",
    "svm_res = svm_grid.cv_results_"
   ]
  },
  {
   "cell_type": "code",
   "execution_count": 512,
   "metadata": {},
   "outputs": [],
   "source": [
    "from sklearn.metrics import multilabel_confusion_matrix as mcm"
   ]
  },
  {
   "cell_type": "code",
   "execution_count": 517,
   "metadata": {},
   "outputs": [
    {
     "data": {
      "text/plain": [
       "array([[[426,  18],\n",
       "        [ 23,  33]],\n",
       "\n",
       "       [[438,   5],\n",
       "        [  7,  50]],\n",
       "\n",
       "       [[428,  14],\n",
       "        [ 32,  26]],\n",
       "\n",
       "       [[415,  24],\n",
       "        [ 33,  28]],\n",
       "\n",
       "       [[434,  30],\n",
       "        [ 10,  26]],\n",
       "\n",
       "       [[433,  18],\n",
       "        [ 12,  37]],\n",
       "\n",
       "       [[440,  13],\n",
       "        [ 11,  36]],\n",
       "\n",
       "       [[447,  19],\n",
       "        [  6,  28]],\n",
       "\n",
       "       [[429,  19],\n",
       "        [ 23,  29]],\n",
       "\n",
       "       [[426,  24],\n",
       "        [ 27,  23]]])"
      ]
     },
     "execution_count": 517,
     "metadata": {},
     "output_type": "execute_result"
    }
   ],
   "source": [
    "clf = svm_grid.best_estimator_\n",
    "clf.fit(x_train, y_train)\n",
    "preds = clf.predict(x_test)\n",
    "mcm(preds, y_test)"
   ]
  },
  {
   "cell_type": "code",
   "execution_count": 217,
   "metadata": {},
   "outputs": [],
   "source": [
    "svm_clf = svm_grid.best_estimator_\n",
    "scores = cross_val_score(svm_clf, x_test, y_test, cv=10)"
   ]
  },
  {
   "cell_type": "code",
   "execution_count": 218,
   "metadata": {},
   "outputs": [],
   "source": [
    "# 9 degrees of freedome 95% two tailed CI\n",
    "t = 2.262\n",
    "mean = np.mean(scores)\n",
    "se = np.std(scores)/10\n",
    "ci = [mean - (t*se), mean + (t*se)]"
   ]
  },
  {
   "cell_type": "code",
   "execution_count": 219,
   "metadata": {},
   "outputs": [
    {
     "name": "stdout",
     "output_type": "stream",
     "text": [
      "95% Confidence Interval: [0.6221401696402514, 0.6538598303597484]\n"
     ]
    }
   ],
   "source": [
    "print(\"95% Confidence Interval: [{}, {}]\".format(ci[0], ci[1]))"
   ]
  },
  {
   "cell_type": "code",
   "execution_count": 96,
   "metadata": {},
   "outputs": [
    {
     "data": {
      "text/plain": [
       "array([0.58, 0.62, 0.62, 0.64, 0.64, 0.42, 0.76, 0.6 , 0.5 , 0.56, 0.58,\n",
       "       0.62, 0.62, 0.64, 0.64, 0.42, 0.76, 0.6 , 0.5 , 0.56])"
      ]
     },
     "execution_count": 96,
     "metadata": {},
     "output_type": "execute_result"
    }
   ],
   "source": [
    "np.concatenate((scores, scores))"
   ]
  },
  {
   "cell_type": "code",
   "execution_count": 100,
   "metadata": {},
   "outputs": [
    {
     "data": {
      "text/plain": [
       "10"
      ]
     },
     "execution_count": 100,
     "metadata": {},
     "output_type": "execute_result"
    }
   ],
   "source": [
    "len(scores)"
   ]
  },
  {
   "cell_type": "code",
   "execution_count": 102,
   "metadata": {},
   "outputs": [],
   "source": [
    "def get_ci(scores):\n",
    "    '''\n",
    "    19 degrees of freedome 95% two tailed CI\n",
    "    '''\n",
    "    t = 2.093\n",
    "    mean = np.mean(scores)\n",
    "    se = np.std(scores)/len(scores)\n",
    "    ci = [mean - (t*se), mean + (t*se)]\n",
    "    print(\"95% Confidence Interval: [{}, {}]\".format(ci[0], ci[1]))"
   ]
  },
  {
   "cell_type": "code",
   "execution_count": 275,
   "metadata": {},
   "outputs": [],
   "source": [
    "grid0 = pickle.load(open('RandomForest0_GridSearch.sav', 'rb'))\n",
    "res0 = grid0.cv_results_\n",
    "grid1 = pickle.load(open('RandomForest0_GridSearch.sav', 'rb'))\n",
    "res1 = grid1.cv_results_"
   ]
  },
  {
   "cell_type": "code",
   "execution_count": 276,
   "metadata": {},
   "outputs": [
    {
     "name": "stdout",
     "output_type": "stream",
     "text": [
      "{'max_depth': 300, 'max_features': 'sqrt', 'n_estimators': 500}\n",
      "{'max_depth': 300, 'max_features': 'sqrt', 'n_estimators': 500}\n"
     ]
    }
   ],
   "source": [
    "print(grid0.best_params_)\n",
    "print(grid1.best_params_)"
   ]
  },
  {
   "cell_type": "code",
   "execution_count": 490,
   "metadata": {},
   "outputs": [],
   "source": [
    "grid0 = pickle.load(open('NonLinearSVC0_GridSearch.sav', 'rb'))\n",
    "res0 = grid0.cv_results_\n",
    "grid1 = pickle.load(open('NonLinearSVC1_GridSearch.sav', 'rb'))\n",
    "res1 = grid1.cv_results_"
   ]
  },
  {
   "cell_type": "code",
   "execution_count": 471,
   "metadata": {},
   "outputs": [
    {
     "data": {
      "text/plain": [
       "dict_keys(['mean_fit_time', 'std_fit_time', 'mean_score_time', 'std_score_time', 'param_C', 'param_gamma', 'param_kernel', 'params', 'split0_test_score', 'split1_test_score', 'split2_test_score', 'split3_test_score', 'split4_test_score', 'split5_test_score', 'split6_test_score', 'split7_test_score', 'split8_test_score', 'split9_test_score', 'mean_test_score', 'std_test_score', 'rank_test_score'])"
      ]
     },
     "execution_count": 471,
     "metadata": {},
     "output_type": "execute_result"
    }
   ],
   "source": [
    "res0.keys()"
   ]
  },
  {
   "cell_type": "code",
   "execution_count": 472,
   "metadata": {},
   "outputs": [
    {
     "data": {
      "text/plain": [
       "[{'C': 0.01, 'gamma': 0.001, 'kernel': 'poly'},\n",
       " {'C': 0.01, 'gamma': 0.001, 'kernel': 'rbf'},\n",
       " {'C': 0.01, 'gamma': 0.001, 'kernel': 'sigmoid'},\n",
       " {'C': 0.01, 'gamma': 0.01, 'kernel': 'poly'},\n",
       " {'C': 0.01, 'gamma': 0.01, 'kernel': 'rbf'},\n",
       " {'C': 0.01, 'gamma': 0.01, 'kernel': 'sigmoid'},\n",
       " {'C': 0.01, 'gamma': 0.1, 'kernel': 'poly'},\n",
       " {'C': 0.01, 'gamma': 0.1, 'kernel': 'rbf'},\n",
       " {'C': 0.01, 'gamma': 0.1, 'kernel': 'sigmoid'},\n",
       " {'C': 0.01, 'gamma': 1.0, 'kernel': 'poly'},\n",
       " {'C': 0.01, 'gamma': 1.0, 'kernel': 'rbf'},\n",
       " {'C': 0.01, 'gamma': 1.0, 'kernel': 'sigmoid'},\n",
       " {'C': 0.01, 'gamma': 10.0, 'kernel': 'poly'},\n",
       " {'C': 0.01, 'gamma': 10.0, 'kernel': 'rbf'},\n",
       " {'C': 0.01, 'gamma': 10.0, 'kernel': 'sigmoid'},\n",
       " {'C': 0.01, 'gamma': 100.0, 'kernel': 'poly'},\n",
       " {'C': 0.01, 'gamma': 100.0, 'kernel': 'rbf'},\n",
       " {'C': 0.01, 'gamma': 100.0, 'kernel': 'sigmoid'},\n",
       " {'C': 0.01, 'gamma': 1000.0, 'kernel': 'poly'},\n",
       " {'C': 0.01, 'gamma': 1000.0, 'kernel': 'rbf'},\n",
       " {'C': 0.01, 'gamma': 1000.0, 'kernel': 'sigmoid'},\n",
       " {'C': 0.1, 'gamma': 0.001, 'kernel': 'poly'},\n",
       " {'C': 0.1, 'gamma': 0.001, 'kernel': 'rbf'},\n",
       " {'C': 0.1, 'gamma': 0.001, 'kernel': 'sigmoid'},\n",
       " {'C': 0.1, 'gamma': 0.01, 'kernel': 'poly'},\n",
       " {'C': 0.1, 'gamma': 0.01, 'kernel': 'rbf'},\n",
       " {'C': 0.1, 'gamma': 0.01, 'kernel': 'sigmoid'},\n",
       " {'C': 0.1, 'gamma': 0.1, 'kernel': 'poly'},\n",
       " {'C': 0.1, 'gamma': 0.1, 'kernel': 'rbf'},\n",
       " {'C': 0.1, 'gamma': 0.1, 'kernel': 'sigmoid'},\n",
       " {'C': 0.1, 'gamma': 1.0, 'kernel': 'poly'},\n",
       " {'C': 0.1, 'gamma': 1.0, 'kernel': 'rbf'},\n",
       " {'C': 0.1, 'gamma': 1.0, 'kernel': 'sigmoid'},\n",
       " {'C': 0.1, 'gamma': 10.0, 'kernel': 'poly'},\n",
       " {'C': 0.1, 'gamma': 10.0, 'kernel': 'rbf'},\n",
       " {'C': 0.1, 'gamma': 10.0, 'kernel': 'sigmoid'},\n",
       " {'C': 0.1, 'gamma': 100.0, 'kernel': 'poly'},\n",
       " {'C': 0.1, 'gamma': 100.0, 'kernel': 'rbf'},\n",
       " {'C': 0.1, 'gamma': 100.0, 'kernel': 'sigmoid'},\n",
       " {'C': 0.1, 'gamma': 1000.0, 'kernel': 'poly'},\n",
       " {'C': 0.1, 'gamma': 1000.0, 'kernel': 'rbf'},\n",
       " {'C': 0.1, 'gamma': 1000.0, 'kernel': 'sigmoid'},\n",
       " {'C': 1.0, 'gamma': 0.001, 'kernel': 'poly'},\n",
       " {'C': 1.0, 'gamma': 0.001, 'kernel': 'rbf'},\n",
       " {'C': 1.0, 'gamma': 0.001, 'kernel': 'sigmoid'},\n",
       " {'C': 1.0, 'gamma': 0.01, 'kernel': 'poly'},\n",
       " {'C': 1.0, 'gamma': 0.01, 'kernel': 'rbf'},\n",
       " {'C': 1.0, 'gamma': 0.01, 'kernel': 'sigmoid'},\n",
       " {'C': 1.0, 'gamma': 0.1, 'kernel': 'poly'},\n",
       " {'C': 1.0, 'gamma': 0.1, 'kernel': 'rbf'},\n",
       " {'C': 1.0, 'gamma': 0.1, 'kernel': 'sigmoid'},\n",
       " {'C': 1.0, 'gamma': 1.0, 'kernel': 'poly'},\n",
       " {'C': 1.0, 'gamma': 1.0, 'kernel': 'rbf'},\n",
       " {'C': 1.0, 'gamma': 1.0, 'kernel': 'sigmoid'},\n",
       " {'C': 1.0, 'gamma': 10.0, 'kernel': 'poly'},\n",
       " {'C': 1.0, 'gamma': 10.0, 'kernel': 'rbf'},\n",
       " {'C': 1.0, 'gamma': 10.0, 'kernel': 'sigmoid'},\n",
       " {'C': 1.0, 'gamma': 100.0, 'kernel': 'poly'},\n",
       " {'C': 1.0, 'gamma': 100.0, 'kernel': 'rbf'},\n",
       " {'C': 1.0, 'gamma': 100.0, 'kernel': 'sigmoid'},\n",
       " {'C': 1.0, 'gamma': 1000.0, 'kernel': 'poly'},\n",
       " {'C': 1.0, 'gamma': 1000.0, 'kernel': 'rbf'},\n",
       " {'C': 1.0, 'gamma': 1000.0, 'kernel': 'sigmoid'},\n",
       " {'C': 10.0, 'gamma': 0.001, 'kernel': 'poly'},\n",
       " {'C': 10.0, 'gamma': 0.001, 'kernel': 'rbf'},\n",
       " {'C': 10.0, 'gamma': 0.001, 'kernel': 'sigmoid'},\n",
       " {'C': 10.0, 'gamma': 0.01, 'kernel': 'poly'},\n",
       " {'C': 10.0, 'gamma': 0.01, 'kernel': 'rbf'},\n",
       " {'C': 10.0, 'gamma': 0.01, 'kernel': 'sigmoid'},\n",
       " {'C': 10.0, 'gamma': 0.1, 'kernel': 'poly'},\n",
       " {'C': 10.0, 'gamma': 0.1, 'kernel': 'rbf'},\n",
       " {'C': 10.0, 'gamma': 0.1, 'kernel': 'sigmoid'},\n",
       " {'C': 10.0, 'gamma': 1.0, 'kernel': 'poly'},\n",
       " {'C': 10.0, 'gamma': 1.0, 'kernel': 'rbf'},\n",
       " {'C': 10.0, 'gamma': 1.0, 'kernel': 'sigmoid'},\n",
       " {'C': 10.0, 'gamma': 10.0, 'kernel': 'poly'},\n",
       " {'C': 10.0, 'gamma': 10.0, 'kernel': 'rbf'},\n",
       " {'C': 10.0, 'gamma': 10.0, 'kernel': 'sigmoid'},\n",
       " {'C': 10.0, 'gamma': 100.0, 'kernel': 'poly'},\n",
       " {'C': 10.0, 'gamma': 100.0, 'kernel': 'rbf'},\n",
       " {'C': 10.0, 'gamma': 100.0, 'kernel': 'sigmoid'},\n",
       " {'C': 10.0, 'gamma': 1000.0, 'kernel': 'poly'},\n",
       " {'C': 10.0, 'gamma': 1000.0, 'kernel': 'rbf'},\n",
       " {'C': 10.0, 'gamma': 1000.0, 'kernel': 'sigmoid'},\n",
       " {'C': 100.0, 'gamma': 0.001, 'kernel': 'poly'},\n",
       " {'C': 100.0, 'gamma': 0.001, 'kernel': 'rbf'},\n",
       " {'C': 100.0, 'gamma': 0.001, 'kernel': 'sigmoid'},\n",
       " {'C': 100.0, 'gamma': 0.01, 'kernel': 'poly'},\n",
       " {'C': 100.0, 'gamma': 0.01, 'kernel': 'rbf'},\n",
       " {'C': 100.0, 'gamma': 0.01, 'kernel': 'sigmoid'},\n",
       " {'C': 100.0, 'gamma': 0.1, 'kernel': 'poly'},\n",
       " {'C': 100.0, 'gamma': 0.1, 'kernel': 'rbf'},\n",
       " {'C': 100.0, 'gamma': 0.1, 'kernel': 'sigmoid'},\n",
       " {'C': 100.0, 'gamma': 1.0, 'kernel': 'poly'},\n",
       " {'C': 100.0, 'gamma': 1.0, 'kernel': 'rbf'},\n",
       " {'C': 100.0, 'gamma': 1.0, 'kernel': 'sigmoid'},\n",
       " {'C': 100.0, 'gamma': 10.0, 'kernel': 'poly'},\n",
       " {'C': 100.0, 'gamma': 10.0, 'kernel': 'rbf'},\n",
       " {'C': 100.0, 'gamma': 10.0, 'kernel': 'sigmoid'},\n",
       " {'C': 100.0, 'gamma': 100.0, 'kernel': 'poly'},\n",
       " {'C': 100.0, 'gamma': 100.0, 'kernel': 'rbf'},\n",
       " {'C': 100.0, 'gamma': 100.0, 'kernel': 'sigmoid'},\n",
       " {'C': 100.0, 'gamma': 1000.0, 'kernel': 'poly'},\n",
       " {'C': 100.0, 'gamma': 1000.0, 'kernel': 'rbf'},\n",
       " {'C': 100.0, 'gamma': 1000.0, 'kernel': 'sigmoid'},\n",
       " {'C': 1000.0, 'gamma': 0.001, 'kernel': 'poly'},\n",
       " {'C': 1000.0, 'gamma': 0.001, 'kernel': 'rbf'},\n",
       " {'C': 1000.0, 'gamma': 0.001, 'kernel': 'sigmoid'},\n",
       " {'C': 1000.0, 'gamma': 0.01, 'kernel': 'poly'},\n",
       " {'C': 1000.0, 'gamma': 0.01, 'kernel': 'rbf'},\n",
       " {'C': 1000.0, 'gamma': 0.01, 'kernel': 'sigmoid'},\n",
       " {'C': 1000.0, 'gamma': 0.1, 'kernel': 'poly'},\n",
       " {'C': 1000.0, 'gamma': 0.1, 'kernel': 'rbf'},\n",
       " {'C': 1000.0, 'gamma': 0.1, 'kernel': 'sigmoid'},\n",
       " {'C': 1000.0, 'gamma': 1.0, 'kernel': 'poly'},\n",
       " {'C': 1000.0, 'gamma': 1.0, 'kernel': 'rbf'},\n",
       " {'C': 1000.0, 'gamma': 1.0, 'kernel': 'sigmoid'},\n",
       " {'C': 1000.0, 'gamma': 10.0, 'kernel': 'poly'},\n",
       " {'C': 1000.0, 'gamma': 10.0, 'kernel': 'rbf'},\n",
       " {'C': 1000.0, 'gamma': 10.0, 'kernel': 'sigmoid'},\n",
       " {'C': 1000.0, 'gamma': 100.0, 'kernel': 'poly'},\n",
       " {'C': 1000.0, 'gamma': 100.0, 'kernel': 'rbf'},\n",
       " {'C': 1000.0, 'gamma': 100.0, 'kernel': 'sigmoid'},\n",
       " {'C': 1000.0, 'gamma': 1000.0, 'kernel': 'poly'},\n",
       " {'C': 1000.0, 'gamma': 1000.0, 'kernel': 'rbf'},\n",
       " {'C': 1000.0, 'gamma': 1000.0, 'kernel': 'sigmoid'},\n",
       " {'C': 10000.0, 'gamma': 0.001, 'kernel': 'poly'},\n",
       " {'C': 10000.0, 'gamma': 0.001, 'kernel': 'rbf'},\n",
       " {'C': 10000.0, 'gamma': 0.001, 'kernel': 'sigmoid'},\n",
       " {'C': 10000.0, 'gamma': 0.01, 'kernel': 'poly'},\n",
       " {'C': 10000.0, 'gamma': 0.01, 'kernel': 'rbf'},\n",
       " {'C': 10000.0, 'gamma': 0.01, 'kernel': 'sigmoid'},\n",
       " {'C': 10000.0, 'gamma': 0.1, 'kernel': 'poly'},\n",
       " {'C': 10000.0, 'gamma': 0.1, 'kernel': 'rbf'},\n",
       " {'C': 10000.0, 'gamma': 0.1, 'kernel': 'sigmoid'},\n",
       " {'C': 10000.0, 'gamma': 1.0, 'kernel': 'poly'},\n",
       " {'C': 10000.0, 'gamma': 1.0, 'kernel': 'rbf'},\n",
       " {'C': 10000.0, 'gamma': 1.0, 'kernel': 'sigmoid'},\n",
       " {'C': 10000.0, 'gamma': 10.0, 'kernel': 'poly'},\n",
       " {'C': 10000.0, 'gamma': 10.0, 'kernel': 'rbf'},\n",
       " {'C': 10000.0, 'gamma': 10.0, 'kernel': 'sigmoid'},\n",
       " {'C': 10000.0, 'gamma': 100.0, 'kernel': 'poly'},\n",
       " {'C': 10000.0, 'gamma': 100.0, 'kernel': 'rbf'},\n",
       " {'C': 10000.0, 'gamma': 100.0, 'kernel': 'sigmoid'},\n",
       " {'C': 10000.0, 'gamma': 1000.0, 'kernel': 'poly'},\n",
       " {'C': 10000.0, 'gamma': 1000.0, 'kernel': 'rbf'},\n",
       " {'C': 10000.0, 'gamma': 1000.0, 'kernel': 'sigmoid'}]"
      ]
     },
     "execution_count": 472,
     "metadata": {},
     "output_type": "execute_result"
    }
   ],
   "source": [
    "res0['params']"
   ]
  },
  {
   "cell_type": "code",
   "execution_count": 491,
   "metadata": {},
   "outputs": [],
   "source": [
    "# X-axis is max_depth. Y-axis is mean score. Color is max_features setting.\n",
    "redx = []\n",
    "redy = []\n",
    "greenx = []\n",
    "greeny = []\n",
    "bluex = []\n",
    "bluey = []\n",
    "y = res0['mean_test_score']\n",
    "x = [param['gamma'] for param in res0['params']]\n",
    "i = 0\n",
    "for param in res0['params']:\n",
    "    if param['kernel'] == 'poly':\n",
    "        redx.append(x[i])\n",
    "        redy.append(y[i])\n",
    "    if param['kernel'] == 'rbf':\n",
    "        greenx.append(x[i])\n",
    "        greeny.append(y[i])\n",
    "    if param['kernel'] == 'sigmoid':\n",
    "        bluex.append(x[i])\n",
    "        bluey.append(y[i])\n",
    "    i+=1"
   ]
  },
  {
   "cell_type": "code",
   "execution_count": 492,
   "metadata": {},
   "outputs": [
    {
     "data": {
      "text/plain": [
       "array([1.e-03, 1.e-02, 1.e-01, 1.e+00, 1.e+01, 1.e+02, 1.e+03])"
      ]
     },
     "execution_count": 492,
     "metadata": {},
     "output_type": "execute_result"
    }
   ],
   "source": [
    "np.unique(np.array(x))"
   ]
  },
  {
   "cell_type": "code",
   "execution_count": 493,
   "metadata": {},
   "outputs": [],
   "source": [
    "np.concatenate((redx, redy),axis=0)\n",
    "reds = np.concatenate((np.reshape(redx, (len(redx),1)), np.reshape(redy, (len(redy),1))), axis=1)"
   ]
  },
  {
   "cell_type": "code",
   "execution_count": 494,
   "metadata": {
    "scrolled": true
   },
   "outputs": [
    {
     "data": {
      "text/plain": [
       "array([1.e-03, 1.e-02, 1.e-01, 1.e+00, 1.e+01, 1.e+02, 1.e+03, 1.e-03,\n",
       "       1.e-02, 1.e-01, 1.e+00, 1.e+01, 1.e+02, 1.e+03, 1.e-03, 1.e-02,\n",
       "       1.e-01, 1.e+00, 1.e+01, 1.e+02, 1.e+03, 1.e-03, 1.e-02, 1.e-01,\n",
       "       1.e+00, 1.e+01, 1.e+02, 1.e+03, 1.e-03, 1.e-02, 1.e-01, 1.e+00,\n",
       "       1.e+01, 1.e+02, 1.e+03, 1.e-03, 1.e-02, 1.e-01, 1.e+00, 1.e+01,\n",
       "       1.e+02, 1.e+03, 1.e-03, 1.e-02, 1.e-01, 1.e+00, 1.e+01, 1.e+02,\n",
       "       1.e+03])"
      ]
     },
     "execution_count": 494,
     "metadata": {},
     "output_type": "execute_result"
    }
   ],
   "source": [
    "reds[:,0]"
   ]
  },
  {
   "cell_type": "code",
   "execution_count": 495,
   "metadata": {},
   "outputs": [
    {
     "data": {
      "text/plain": [
       "30"
      ]
     },
     "execution_count": 495,
     "metadata": {},
     "output_type": "execute_result"
    }
   ],
   "source": [
    "stds = grid.cv_results_['std_test_score']\n",
    "len(stds)"
   ]
  },
  {
   "cell_type": "code",
   "execution_count": 503,
   "metadata": {
    "scrolled": true
   },
   "outputs": [
    {
     "data": {
      "image/png": "[encoded data removed]",
      "text/plain": [
       "<Figure size 432x288 with 1 Axes>"
      ]
     },
     "metadata": {
      "needs_background": "light"
     },
     "output_type": "display_data"
    }
   ],
   "source": [
    "redline = []\n",
    "redstd = []\n",
    "for gam in np.logspace(-3, 3, 7):\n",
    "    targets = np.where(reds[:,0] == gam)\n",
    "    #np.concatenate(np.array, [gam, np.average(reds[targets,1])])\n",
    "    redline.append([gam, np.average(reds[targets,1])])\n",
    "    redstd.append(np.std(reds[targets,1]))\n",
    "redline = np.array(redline)\n",
    "plt.semilogx(redline[:,0], redline[:,1], label=\"red\", color=\"red\")\n",
    "plt.gca().fill_between(redline[:,0], redline[:,1] - redstd, redline[:,1] + redstd, color=\"mistyrose\")\n",
    "plt.legend()\n",
    "plt.show()"
   ]
  },
  {
   "cell_type": "code",
   "execution_count": 469,
   "metadata": {},
   "outputs": [
    {
     "ename": "AttributeError",
     "evalue": "module 'matplotlib.colors' has no attribute 'r'",
     "output_type": "error",
     "traceback": [
      "\u001b[0;31m---------------------------------------------------------------------------\u001b[0m",
      "\u001b[0;31mAttributeError\u001b[0m                            Traceback (most recent call last)",
      "\u001b[0;32m<ipython-input-469-f9c434f51177>\u001b[0m in \u001b[0;36m<module>\u001b[0;34m\u001b[0m\n\u001b[1;32m      1\u001b[0m \u001b[0mplt\u001b[0m\u001b[0;34m.\u001b[0m\u001b[0mclf\u001b[0m\u001b[0;34m(\u001b[0m\u001b[0;34m)\u001b[0m\u001b[0;34m\u001b[0m\u001b[0;34m\u001b[0m\u001b[0m\n\u001b[0;32m----> 2\u001b[0;31m \u001b[0mplt\u001b[0m\u001b[0;34m.\u001b[0m\u001b[0mscatter\u001b[0m\u001b[0;34m(\u001b[0m\u001b[0mredx\u001b[0m\u001b[0;34m,\u001b[0m\u001b[0mredy\u001b[0m\u001b[0;34m,\u001b[0m\u001b[0mcolor\u001b[0m\u001b[0;34m=\u001b[0m\u001b[0mmatplotlib\u001b[0m\u001b[0;34m.\u001b[0m\u001b[0mcolors\u001b[0m\u001b[0;34m.\u001b[0m\u001b[0mr\u001b[0m\u001b[0;34m)\u001b[0m\u001b[0;34m\u001b[0m\u001b[0;34m\u001b[0m\u001b[0m\n\u001b[0m\u001b[1;32m      3\u001b[0m \u001b[0mplt\u001b[0m\u001b[0;34m.\u001b[0m\u001b[0mscatter\u001b[0m\u001b[0;34m(\u001b[0m\u001b[0mgreenx\u001b[0m\u001b[0;34m,\u001b[0m\u001b[0mgreeny\u001b[0m\u001b[0;34m,\u001b[0m\u001b[0mcolor\u001b[0m\u001b[0;34m=\u001b[0m\u001b[0mmatplotlib\u001b[0m\u001b[0;34m.\u001b[0m\u001b[0mcolors\u001b[0m\u001b[0;34m.\u001b[0m\u001b[0mg\u001b[0m\u001b[0;34m)\u001b[0m\u001b[0;34m\u001b[0m\u001b[0;34m\u001b[0m\u001b[0m\n\u001b[1;32m      4\u001b[0m \u001b[0mplt\u001b[0m\u001b[0;34m.\u001b[0m\u001b[0mscatter\u001b[0m\u001b[0;34m(\u001b[0m\u001b[0mbluex\u001b[0m\u001b[0;34m,\u001b[0m\u001b[0mbluey\u001b[0m\u001b[0;34m,\u001b[0m\u001b[0mcolor\u001b[0m\u001b[0;34m=\u001b[0m\u001b[0mmatplotlib\u001b[0m\u001b[0;34m.\u001b[0m\u001b[0mcolors\u001b[0m\u001b[0;34m.\u001b[0m\u001b[0mb\u001b[0m\u001b[0;34m)\u001b[0m\u001b[0;34m\u001b[0m\u001b[0;34m\u001b[0m\u001b[0m\n\u001b[1;32m      5\u001b[0m \u001b[0mplt\u001b[0m\u001b[0;34m.\u001b[0m\u001b[0mxlabel\u001b[0m\u001b[0;34m(\u001b[0m\u001b[0;34m'x'\u001b[0m\u001b[0;34m)\u001b[0m\u001b[0;34m\u001b[0m\u001b[0;34m\u001b[0m\u001b[0m\n",
      "\u001b[0;31mAttributeError\u001b[0m: module 'matplotlib.colors' has no attribute 'r'"
     ]
    },
    {
     "data": {
      "text/plain": [
       "<Figure size 432x288 with 0 Axes>"
      ]
     },
     "metadata": {},
     "output_type": "display_data"
    }
   ],
   "source": [
    "plt.clf()\n",
    "plt.scatter(redx,redy,color=matplotlib.colors.r)\n",
    "plt.scatter(greenx,greeny,color=matplotlib.colors.g)\n",
    "plt.scatter(bluex,bluey,color=matplotlib.colors.b)\n",
    "plt.xlabel('x')\n",
    "plt.ylabel('y')\n",
    "plt.xlim(0.0001, 10000)\n",
    "plt.xscale('log')\n",
    "plt.show()"
   ]
  },
  {
   "cell_type": "code",
   "execution_count": 329,
   "metadata": {
    "scrolled": true
   },
   "outputs": [
    {
     "data": {
      "image/png": "[encoded data removed]",
      "text/plain": [
       "<Figure size 432x288 with 1 Axes>"
      ]
     },
     "metadata": {
      "needs_background": "light"
     },
     "output_type": "display_data"
    }
   ],
   "source": [
    "plt.scatter(redx,redy,color='red')\n",
    "plt.scatter(greenx,greeny,color='green')\n",
    "plt.xlim(0.0001, 10000)\n",
    "plt.xscale('log')\n",
    "plt.show()"
   ]
  },
  {
   "cell_type": "code",
   "execution_count": 291,
   "metadata": {
    "scrolled": true
   },
   "outputs": [
    {
     "data": {
      "image/png": "[encoded data removed]",
      "text/plain": [
       "<Figure size 432x288 with 1 Axes>"
      ]
     },
     "metadata": {
      "needs_background": "light"
     },
     "output_type": "display_data"
    }
   ],
   "source": [
    "plt.scatter(greenx,greeny,color='green')\n",
    "plt.scatter(bluex,bluey,color='blue')\n",
    "plt.xscale('log')\n",
    "plt.show()"
   ]
  },
  {
   "cell_type": "code",
   "execution_count": 290,
   "metadata": {},
   "outputs": [
    {
     "data": {
      "image/png": "[encoded data removed]",
      "text/plain": [
       "<Figure size 432x288 with 1 Axes>"
      ]
     },
     "metadata": {
      "needs_background": "light"
     },
     "output_type": "display_data"
    }
   ],
   "source": [
    "plt.scatter(redx,redy,color='red')\n",
    "plt.scatter(bluex,bluey,color='blue')\n",
    "plt.xscale('log')\n",
    "plt.show()"
   ]
  },
  {
   "cell_type": "code",
   "execution_count": 401,
   "metadata": {},
   "outputs": [],
   "source": [
    "def make_line(x,y,xvals):\n",
    "    xy = np.concatenate((np.reshape(x, (len(x),1)), np.reshape(y, (len(y),1))), axis=1)\n",
    "    line = []\n",
    "    for gam in xvals:\n",
    "        targets = np.where(xy[:,0] == gam)\n",
    "        line.append([gam, np.average(xy[targets,1])])\n",
    "    return np.array(line)"
   ]
  },
  {
   "cell_type": "code",
   "execution_count": 406,
   "metadata": {},
   "outputs": [
    {
     "data": {
      "text/plain": [
       "<matplotlib.legend.Legend at 0x1292b0ac0>"
      ]
     },
     "execution_count": 406,
     "metadata": {},
     "output_type": "execute_result"
    },
    {
     "data": {
      "image/png": "[encoded data removed]",
      "text/plain": [
       "<Figure size 432x288 with 1 Axes>"
      ]
     },
     "metadata": {
      "needs_background": "light"
     },
     "output_type": "display_data"
    }
   ],
   "source": [
    "redline = make_line(redx, redy, np.logspace(-3, 3, 7))\n",
    "greenline = make_line(greenx, greeny, np.logspace(-3, 3, 7))\n",
    "blueline = make_line(bluex, bluey, np.logspace(-3, 3, 7))\n",
    "plt.semilogx(redline[:,0], redline[:,1], label=str('a'), color=\"red\")\n",
    "plt.semilogx(greenline[:,0], greenline[:,1], label=str('b'), color=\"green\")\n",
    "plt.semilogx(blueline[:,0], blueline[:,1], label=str('c'), color=\"blue\")\n",
    "plt.legend()"
   ]
  },
  {
   "cell_type": "code",
   "execution_count": 427,
   "metadata": {
    "scrolled": true
   },
   "outputs": [
    {
     "data": {
      "image/png": "[encoded data removed]",
      "text/plain": [
       "<Figure size 432x288 with 1 Axes>"
      ]
     },
     "metadata": {
      "needs_background": "light"
     },
     "output_type": "display_data"
    },
    {
     "data": {
      "image/png": "[encoded data removed]",
      "text/plain": [
       "<Figure size 432x288 with 1 Axes>"
      ]
     },
     "metadata": {
      "needs_background": "light"
     },
     "output_type": "display_data"
    },
    {
     "data": {
      "image/png": "[encoded data removed]",
      "text/plain": [
       "<Figure size 432x288 with 1 Axes>"
      ]
     },
     "metadata": {
      "needs_background": "light"
     },
     "output_type": "display_data"
    }
   ],
   "source": [
    "grid0 = pickle.load(open('MLP0_GridSearch.sav', 'rb'))\n",
    "res0 = grid0.cv_results_\n",
    "grid1 = pickle.load(open('MLP1_GridSearch.sav', 'rb'))\n",
    "res1 = grid1.cv_results_\n",
    "y = res0['mean_test_score']\n",
    "x = [param['alpha'] for param in res0['params']]\n",
    "get_nn_graphs(x,y, res0['params'], 'logistic', 'relu', \"plots/SVM_C\", \"alpha\")\n",
    "x = [param['learning_rate_init'] for param in res0['params']]\n",
    "get_nn_graphs(x,y, res0['params'], 'logistic', 'relu', \"plots/SVM_C\", \"learning_rate_init\")\n",
    "x = [param['max_iter'] for param in res0['params']]\n",
    "get_nn_graphs(x,y, res0['params'], 'logistic', 'relu', \"plots/SVM_C\", \"max_iter\")\n"
   ]
  },
  {
   "cell_type": "code",
   "execution_count": 433,
   "metadata": {
    "scrolled": true
   },
   "outputs": [
    {
     "name": "stdout",
     "output_type": "stream",
     "text": [
      "Best Param 1: {'activation': 'relu', 'alpha': 0.001, 'hidden_layer_sizes': (200, 200, 200), 'learning_rate_init': 0.01, 'max_iter': 2000}\n"
     ]
    }
   ],
   "source": [
    "print(\"Best Param 1: {}\".format(grid0.best_params_))"
   ]
  },
  {
   "cell_type": "code",
   "execution_count": 434,
   "metadata": {},
   "outputs": [
    {
     "name": "stdout",
     "output_type": "stream",
     "text": [
      "Best Param 2: {'activation': 'relu', 'alpha': 0.0001, 'hidden_layer_sizes': (200, 200), 'learning_rate_init': 0.001, 'max_iter': 3000}\n"
     ]
    }
   ],
   "source": [
    "print(\"Best Param 2: {}\".format(grid1.best_params_))"
   ]
  },
  {
   "cell_type": "code",
   "execution_count": null,
   "metadata": {},
   "outputs": [],
   "source": [
    "{'hidden_layer_sizes': [(100, 100, 100), (200, 200, 200), (100, 100), (200, 200)], 'activation': ['logistic', 'relu'], 'alpha': [0.0001, 0.001], 'learning_rate_init': [0.01, 0.001], 'max_iter': [2000, 3000]}"
   ]
  },
  {
   "cell_type": "code",
   "execution_count": null,
   "metadata": {},
   "outputs": [],
   "source": []
  },
  {
   "cell_type": "code",
   "execution_count": 451,
   "metadata": {},
   "outputs": [],
   "source": [
    "def nn_graphs():\n",
    "    grid0 = pickle.load(open('MLP_fin_0GridSearch.sav', 'rb'))\n",
    "    res0 = grid0.cv_results_\n",
    "    grid1 = pickle.load(open('MLP_fin_1GridSearch.sav', 'rb'))\n",
    "    res1 = grid1.cv_results_\n",
    "    y = res0['mean_test_score']\n",
    "    x = [param['alpha'] for param in res0['params']]\n",
    "    get_nn_graphs(x,y, res0['params'], 'logistic', 'relu', \"plots/SVM_C\", \"alpha\")\n",
    "    x = [param['learning_rate_init'] for param in res0['params']]\n",
    "    get_nn_graphs(x,y, res0['params'], 'logistic', 'relu', \"plots/SVM_C\", \"learning_rate_init\")\n",
    "    x = [param['max_iter'] for param in res0['params']]\n",
    "    get_nn_graphs(x,y, res0['params'], 'logistic', 'relu', \"plots/SVM_C\", \"max_iter\")\n",
    "\n",
    "def get_nn_graphs(x, y, params, c1, c2, name, xname, yname='mean_test_score', weirdx=False):\n",
    "    redx = []\n",
    "    redy = []\n",
    "    greenx = []\n",
    "    greeny = []\n",
    "    bluex = []\n",
    "    bluey = []\n",
    "    i = 0\n",
    "    for param in params:\n",
    "        if param['activation'] == c1:\n",
    "            if weirdx:\n",
    "                redx.append(x[i][0])\n",
    "            else:\n",
    "                redx.append(x[i])\n",
    "            redy.append(y[i])\n",
    "        if param['activation'] == c2:\n",
    "            if weirdx:\n",
    "                greenx.append(x[i][0])\n",
    "            else:\n",
    "                greenx.append(x[i])\n",
    "            greeny.append(y[i])\n",
    "        i+=1\n",
    "#     plt.scatter(redx,redy,color='red',label=c1)\n",
    "#     plt.scatter(greenx,greeny,color='green',label=c2)\n",
    "#     plt.legend()\n",
    "#     plt.xlabel(xname)\n",
    "#     plt.ylabel(yname)\n",
    "#     plt.show()\n",
    "#     plt.clf()\n",
    "    \n",
    "#     plt.scatter(redx,redy,color='red',label=c1)\n",
    "#     plt.scatter(greenx,greeny,color='green',label=c2)\n",
    "#     plt.legend()\n",
    "#     plt.xlabel(xname)\n",
    "#     plt.ylabel(yname)\n",
    "#     plt.xscale('log')\n",
    "#     plt.show()\n",
    "#     plt.clf()\n",
    "\n",
    "    uniquex = np.unique(np.array(x))\n",
    "\n",
    "    redline = make_line(redx, redy, uniquex)\n",
    "    greenline = make_line(greenx, greeny, uniquex)\n",
    "#     blueline = make_line(bluex, bluey, uniquex)\n",
    "    plt.semilogx(redline[:,0], redline[:,1], label=str(c1), color=\"red\")\n",
    "    plt.semilogx(greenline[:,0], greenline[:,1], label=str(c2), color=\"green\")\n",
    "#     plt.semilogx(blueline[:,0], blueline[:,1], label=str(c3), color=\"blue\")\n",
    "    plt.legend()\n",
    "    plt.xlabel(xname)\n",
    "    plt.ylabel(yname)\n",
    "    plt.show()\n",
    "#     plt.savefig('{}_line.png'.format(name))\n",
    "#     plt.clf()"
   ]
  },
  {
   "cell_type": "code",
   "execution_count": 452,
   "metadata": {},
   "outputs": [
    {
     "name": "stderr",
     "output_type": "stream",
     "text": [
      "/Users/bojunyang/anaconda3/envs/ml/lib/python3.8/site-packages/numpy/lib/function_base.py:393: RuntimeWarning: Mean of empty slice.\n",
      "  avg = a.mean(axis)\n",
      "/Users/bojunyang/anaconda3/envs/ml/lib/python3.8/site-packages/numpy/core/_methods.py:161: RuntimeWarning: invalid value encountered in double_scalars\n",
      "  ret = ret.dtype.type(ret / rcount)\n"
     ]
    },
    {
     "data": {
      "image/png": "[encoded data removed]",
      "text/plain": [
       "<Figure size 432x288 with 1 Axes>"
      ]
     },
     "metadata": {
      "needs_background": "light"
     },
     "output_type": "display_data"
    },
    {
     "data": {
      "image/png": "[encoded data removed]",
      "text/plain": [
       "<Figure size 432x288 with 1 Axes>"
      ]
     },
     "metadata": {
      "needs_background": "light"
     },
     "output_type": "display_data"
    },
    {
     "data": {
      "image/png": "[encoded data removed]",
      "text/plain": [
       "<Figure size 432x288 with 1 Axes>"
      ]
     },
     "metadata": {
      "needs_background": "light"
     },
     "output_type": "display_data"
    }
   ],
   "source": [
    "nn_graphs()"
   ]
  },
  {
   "cell_type": "code",
   "execution_count": 442,
   "metadata": {},
   "outputs": [
    {
     "data": {
      "text/plain": [
       "[0.0001,\n",
       " 0.02008,\n",
       " 0.040060000000000005,\n",
       " 0.06004000000000001,\n",
       " 0.08002000000000001,\n",
       " 0.1]"
      ]
     },
     "execution_count": 442,
     "metadata": {},
     "output_type": "execute_result"
    }
   ],
   "source": [
    "[0.0001, 0.0005, 0.001, 0.005, 0.01, 0.05]"
   ]
  },
  {
   "cell_type": "code",
   "execution_count": 443,
   "metadata": {},
   "outputs": [
    {
     "name": "stdout",
     "output_type": "stream",
     "text": [
      "GridSearchCV elapsed time: 49.462910890579224\n"
     ]
    }
   ],
   "source": [
    "x_train, x_test, y_train, y_test = preprocess_data(data)\n",
    "hidden_layer_sizes = [(100,100,100)]\n",
    "activation =  ['relu']\n",
    "alpha = [0.0001, 0.0005, 0.001, 0.005, 0.01, 0.05]\n",
    "learning_rate_init = [0.001, 0.005, 0.01, 0.05, 0.1]\n",
    "max_iter = [1500]\n",
    "params = {\n",
    "    'hidden_layer_sizes': hidden_layer_sizes,\n",
    "    'activation': activation,\n",
    "    'alpha': alpha,\n",
    "    'learning_rate_init': learning_rate_init,\n",
    "    'max_iter': max_iter,\n",
    "}\n",
    "grid = gridsearch(MLPClassifier(), params, x_train, y_train, name=\"MLP_fin_0\")\n"
   ]
  },
  {
   "cell_type": "code",
   "execution_count": 445,
   "metadata": {},
   "outputs": [
    {
     "data": {
      "text/plain": [
       "0.654"
      ]
     },
     "execution_count": 445,
     "metadata": {},
     "output_type": "execute_result"
    }
   ],
   "source": [
    "grid.best_score_"
   ]
  },
  {
   "cell_type": "code",
   "execution_count": 448,
   "metadata": {},
   "outputs": [
    {
     "data": {
      "text/plain": [
       "0.604"
      ]
     },
     "execution_count": 448,
     "metadata": {},
     "output_type": "execute_result"
    }
   ],
   "source": [
    "np.average(cross_val_score(grid.best_estimator_, x_test, y_test, cv=10))"
   ]
  },
  {
   "cell_type": "code",
   "execution_count": null,
   "metadata": {},
   "outputs": [],
   "source": []
  }
 ],
 "metadata": {
  "kernelspec": {
   "display_name": "Python 3",
   "language": "python",
   "name": "python3"
  },
  "language_info": {
   "codemirror_mode": {
    "name": "ipython",
    "version": 3
   },
   "file_extension": ".py",
   "mimetype": "text/x-python",
   "name": "python",
   "nbconvert_exporter": "python",
   "pygments_lexer": "ipython3",
   "version": "3.8.1"
  }
 },
 "nbformat": 4,
 "nbformat_minor": 4
}
