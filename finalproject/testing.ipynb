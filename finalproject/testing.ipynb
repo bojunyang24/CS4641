{
 "cells": [
  {
   "cell_type": "code",
   "execution_count": 1,
   "metadata": {},
   "outputs": [],
   "source": [
    "import numpy as np\n",
    "import pandas as pd\n",
    "import os.path, matplotlib\n",
    "from sklearn.model_selection import train_test_split"
   ]
  },
  {
   "cell_type": "code",
   "execution_count": 2,
   "metadata": {},
   "outputs": [],
   "source": [
    "data = pd.read_csv('data/data.csv')"
   ]
  },
  {
   "cell_type": "code",
   "execution_count": 3,
   "metadata": {},
   "outputs": [],
   "source": [
    "# # one hot encoding for linear regression\n",
    "# encoded_labels = pd.get_dummies(data.label)\n",
    "# data = pd.concat([data, encoded_labels],axis=1)\n",
    "# data = data.drop(['label','filename'], axis=1)\n",
    "# df = data.drop(['blues','classical','country','disco','hiphop','jazz','metal','pop','reggae','rock'], axis=1)\n",
    "# x_train, x_test, y_train, y_test = train_test_split(df, encoded_labels, test_size=0.1)\n",
    "# # linear model\n",
    "# from sklearn import linear_model\n",
    "# linreg = linear_model.LinearRegression()\n",
    "# linreg_model = linreg.fit(x_train, y_train)\n",
    "# linreg_pred = linreg_model.predict(x_test)\n",
    "# linreg_model.score(x_test,y_test)"
   ]
  },
  {
   "cell_type": "code",
   "execution_count": 10,
   "metadata": {},
   "outputs": [],
   "source": [
    "# no encoding\n",
    "label = data.label\n",
    "df = data.drop(['label','filename'], axis=1)\n",
    "x_train, x_test, y_train, y_test = train_test_split(df, label, test_size=0.1)"
   ]
  },
  {
   "cell_type": "code",
   "execution_count": 11,
   "metadata": {},
   "outputs": [
    {
     "name": "stdout",
     "output_type": "stream",
     "text": [
      "0.49\n"
     ]
    }
   ],
   "source": [
    "# linear kernel svc\n",
    "from sklearn.svm import SVC\n",
    "linsvc = SVC(kernel='linear')\n",
    "linsvc_model = linsvc.fit(x_train, y_train)\n",
    "linsvc_pred = linsvc_model.predict(x_test)\n",
    "print(linsvc_model.score(x_test, y_test))"
   ]
  },
  {
   "cell_type": "code",
   "execution_count": 7,
   "metadata": {},
   "outputs": [
    {
     "name": "stdout",
     "output_type": "stream",
     "text": [
      "(900, 28)\n",
      "(900,)\n"
     ]
    }
   ],
   "source": [
    "print(x_train.shape)\n",
    "print(y_train.shape)"
   ]
  },
  {
   "cell_type": "code",
   "execution_count": null,
   "metadata": {},
   "outputs": [],
   "source": []
  }
 ],
 "metadata": {
  "kernelspec": {
   "display_name": "Python 3",
   "language": "python",
   "name": "python3"
  },
  "language_info": {
   "codemirror_mode": {
    "name": "ipython",
    "version": 3
   },
   "file_extension": ".py",
   "mimetype": "text/x-python",
   "name": "python",
   "nbconvert_exporter": "python",
   "pygments_lexer": "ipython3",
   "version": "3.8.1"
  }
 },
 "nbformat": 4,
 "nbformat_minor": 4
}
