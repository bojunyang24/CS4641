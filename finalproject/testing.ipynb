{
 "cells": [
  {
   "cell_type": "code",
   "execution_count": 12,
   "metadata": {},
   "outputs": [],
   "source": [
    "import numpy as np\n",
    "import pandas as pd\n",
    "import os.path, matplotlib\n",
    "from sklearn.model_selection import train_test_split\n",
    "from sklearn.preprocessing import StandardScaler\n",
    "import time\n",
    "from sklearn.decomposition import PCA\n",
    "import matplotlib.pyplot\n",
    "from mpl_toolkits.mplot3d import Axes3D\n",
    "from sklearn.model_selection import GridSearchCV\n",
    "from sklearn.svm import SVC\n",
    "from sklearn.multiclass import OneVsRestClassifier\n",
    "from sklearn.model_selection import GridSearchCV\n",
    "from sklearn.ensemble import RandomForestClassifier"
   ]
  },
  {
   "cell_type": "code",
   "execution_count": 13,
   "metadata": {},
   "outputs": [],
   "source": [
    "def preprocess_data(data, center=True):\n",
    "    '''\n",
    "    centers and splits the data for testing and training\n",
    "    returns x_train, x_test, y_train, y_test\n",
    "    '''\n",
    "    label = data.label\n",
    "    df = data.drop(['label','filename'], axis=1)\n",
    "    if center:\n",
    "        scaler = StandardScaler()\n",
    "        scaler.fit(df)\n",
    "        df = scaler.transform(df)\n",
    "    return train_test_split(df, label, test_size=0.5)"
   ]
  },
  {
   "cell_type": "code",
   "execution_count": 14,
   "metadata": {},
   "outputs": [],
   "source": [
    "def gridsearch(classifier, params, x_train, y_train, name=\"Test_\"):\n",
    "    '''\n",
    "    Uses GridSearchCV to tune hyperparameters and saves the GridSearchCV results\n",
    "    Trains the classifier with the best parameters and scores the model\n",
    "    '''\n",
    "    start_time = time.time()\n",
    "    clf = GridSearchCV(classifier, params, n_jobs=-1, cv=10)\n",
    "    grid = clf.fit(x_train, y_train)\n",
    "    print(\"GridSearchCV elapsed time: {}\".format(time.time() - start_time))\n",
    "\n",
    "    # best_params = grid.best_params_\n",
    "    # best_score = grid.best_score_\n",
    "    # print(\"{}GridSearch \\nBest params: {} \\nScore: {}\".format(name, best_params, best_score))\n",
    "    \n",
    "    # Saves GridSearch Result\n",
    "    filename = \"{}GridSearch.sav\".format(name)\n",
    "    pickle.dump(grid, open(filename, 'wb'))\n",
    "    return grid"
   ]
  },
  {
   "cell_type": "code",
   "execution_count": 15,
   "metadata": {},
   "outputs": [],
   "source": [
    "def rfc(data, center=True):\n",
    "    '''\n",
    "    Uses GridSearchCV to tune hyperparameters for RandomForestClassification\n",
    "    Saves the grid results to a pickle\n",
    "    '''\n",
    "    x_train, x_test, y_train, y_test = preprocess_data(data)\n",
    "    n_estimators = [int(x) for x in np.linspace(start = 100, stop = 1000, num = 10)]\n",
    "    max_depth = [int(x) for x in np.linspace(start = 10, stop = 1000, num = 10)]\n",
    "    max_features = ['sqrt','log2', None]\n",
    "    params = {\n",
    "        'n_estimators': n_estimators,\n",
    "        'max_depth': max_depth,\n",
    "        'max_features': max_features,\n",
    "    }\n",
    "    grid = gridsearch(RandomForestClassifier(), params, x_train, y_train, name=\"RandomForest_\")\n",
    "    return grid"
   ]
  },
  {
   "cell_type": "code",
   "execution_count": 16,
   "metadata": {},
   "outputs": [],
   "source": [
    "data = pd.read_csv('data/data.csv')"
   ]
  },
  {
   "cell_type": "code",
   "execution_count": null,
   "metadata": {},
   "outputs": [],
   "source": [
    "grid = rfc(data)"
   ]
  },
  {
   "cell_type": "code",
   "execution_count": null,
   "metadata": {},
   "outputs": [],
   "source": []
  }
 ],
 "metadata": {
  "kernelspec": {
   "display_name": "Python 3",
   "language": "python",
   "name": "python3"
  },
  "language_info": {
   "codemirror_mode": {
    "name": "ipython",
    "version": 3
   },
   "file_extension": ".py",
   "mimetype": "text/x-python",
   "name": "python",
   "nbconvert_exporter": "python",
   "pygments_lexer": "ipython3",
   "version": "3.8.1"
  }
 },
 "nbformat": 4,
 "nbformat_minor": 4
}
