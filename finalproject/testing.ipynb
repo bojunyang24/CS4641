{
 "cells": [
  {
   "cell_type": "code",
   "execution_count": 111,
   "metadata": {},
   "outputs": [],
   "source": [
    "import numpy as np\n",
    "import pandas as pd\n",
    "import os.path, matplotlib\n",
    "import matplotlib.pyplot\n",
    "from mpl_toolkits.mplot3d import Axes3D\n",
    "from sklearn.model_selection import train_test_split\n",
    "from sklearn.preprocessing import StandardScaler\n",
    "from sklearn import linear_model\n",
    "from sklearn.decomposition import PCA\n",
    "from sklearn.svm import SVC\n",
    "from sklearn.svm import LinearSVC\n",
    "from sklearn.multiclass import OneVsRestClassifier\n",
    "from sklearn.model_selection import GridSearchCV\n",
    "from sklearn.ensemble import RandomForestClassifier\n",
    "from sklearn.model_selection import cross_val_score\n",
    "from sklearn.neural_network import MLPClassifier\n",
    "import pickle\n",
    "import time"
   ]
  },
  {
   "cell_type": "code",
   "execution_count": 2,
   "metadata": {},
   "outputs": [],
   "source": [
    "def preprocess_data(data, center=True):\n",
    "    '''\n",
    "    centers and splits the data for testing and training\n",
    "    returns x_train, x_test, y_train, y_test\n",
    "    '''\n",
    "    label = data.label\n",
    "    df = data.drop(['label','filename'], axis=1)\n",
    "    if center:\n",
    "        scaler = StandardScaler()\n",
    "        scaler.fit(df)\n",
    "        df = scaler.transform(df)\n",
    "    return train_test_split(df, label, test_size=0.5)"
   ]
  },
  {
   "cell_type": "code",
   "execution_count": 3,
   "metadata": {},
   "outputs": [],
   "source": [
    "def gridsearch(classifier, params, x_train, y_train, name=\"Test_\"):\n",
    "    '''\n",
    "    Uses GridSearchCV to tune hyperparameters and saves the GridSearchCV results\n",
    "    Trains the classifier with the best parameters and scores the model\n",
    "    '''\n",
    "    start_time = time.time()\n",
    "    clf = GridSearchCV(classifier, params, n_jobs=-1, cv=10)\n",
    "    grid = clf.fit(x_train, y_train)\n",
    "    print(\"GridSearchCV elapsed time: {}\".format(time.time() - start_time))\n",
    "\n",
    "    # best_params = grid.best_params_\n",
    "    # best_score = grid.best_score_\n",
    "    # print(\"{}GridSearch \\nBest params: {} \\nScore: {}\".format(name, best_params, best_score))\n",
    "    \n",
    "    # Saves GridSearch Result\n",
    "    filename = \"{}GridSearch.sav\".format(name)\n",
    "    pickle.dump(grid, open(filename, 'wb'))\n",
    "    return grid"
   ]
  },
  {
   "cell_type": "code",
   "execution_count": 107,
   "metadata": {},
   "outputs": [],
   "source": [
    "def rfc(data, center=True):\n",
    "    '''\n",
    "    Uses GridSearchCV to tune hyperparameters for RandomForestClassification\n",
    "    Saves the grid results to a pickle\n",
    "    '''\n",
    "    x_train, x_test, y_train, y_test = preprocess_data(data)\n",
    "    n_estimators = [int(x) for x in np.linspace(start = 10, stop = 500, num = 5)]\n",
    "    max_depth = [int(x) for x in np.linspace(start = 10, stop = 500, num = 5)]\n",
    "    max_features = ['sqrt','log2', None]\n",
    "    params = {\n",
    "        'n_estimators': n_estimators,\n",
    "        'max_depth': max_depth,\n",
    "        'max_features': max_features,\n",
    "    }\n",
    "    grid = gridsearch(RandomForestClassifier(), params, x_train, y_train, name=\"RandomForest_\")\n",
    "    return grid, x_train, x_test, y_train, y_test"
   ]
  },
  {
   "cell_type": "code",
   "execution_count": 5,
   "metadata": {},
   "outputs": [],
   "source": [
    "data = pd.read_csv('data/data.csv')"
   ]
  },
  {
   "cell_type": "code",
   "execution_count": null,
   "metadata": {},
   "outputs": [],
   "source": [
    "rfc_grid = rfc(data)"
   ]
  },
  {
   "cell_type": "code",
   "execution_count": 6,
   "metadata": {},
   "outputs": [],
   "source": [
    "def non_linear_svm(data, center=True):\n",
    "    x_train, x_test, y_train, y_test = preprocess_data(data)\n",
    "    C = np.logspace(-2, 4, 7)\n",
    "    gamma = np.logspace(-3, 3, 7)\n",
    "    kernel = ['poly', 'rbf', 'sigmoid']\n",
    "    params = {\n",
    "        'C': C,\n",
    "        'gamma': gamma,\n",
    "        'kernel': kernel,\n",
    "    }\n",
    "    grid = gridsearch(SVC(), params, x_train, y_train, name=\"NonLinearSVC_\")\n",
    "    return grid, x_train, x_test, y_train, y_test"
   ]
  },
  {
   "cell_type": "code",
   "execution_count": 23,
   "metadata": {},
   "outputs": [
    {
     "name": "stdout",
     "output_type": "stream",
     "text": [
      "GridSearchCV elapsed time: 4.502078056335449\n"
     ]
    }
   ],
   "source": [
    "svm_grid, x_train, x_test, y_train, y_test = non_linear_svm(data)\n",
    "svm_res = svm_grid.cv_results_"
   ]
  },
  {
   "cell_type": "code",
   "execution_count": null,
   "metadata": {},
   "outputs": [],
   "source": [
    "rfc_grid = pickle.load(open('RandomForest_GridSearch.sav', 'rb'))\n",
    "svm_grid = pickle.load(open('NonLinearSVC_GridSearch.sav', 'rb'))\n",
    "rfc_res = rfc_grid.cv_results_\n",
    "svm_res = svm_grid.cv_results_"
   ]
  },
  {
   "cell_type": "code",
   "execution_count": 92,
   "metadata": {},
   "outputs": [
    {
     "data": {
      "text/plain": [
       "SVC(C=1000.0, break_ties=False, cache_size=200, class_weight=None, coef0=0.0,\n",
       "    decision_function_shape='ovr', degree=3, gamma=0.001, kernel='rbf',\n",
       "    max_iter=-1, probability=False, random_state=None, shrinking=True,\n",
       "    tol=0.001, verbose=False)"
      ]
     },
     "execution_count": 92,
     "metadata": {},
     "output_type": "execute_result"
    }
   ],
   "source": [
    "svm_grid.best_estimator_"
   ]
  },
  {
   "cell_type": "code",
   "execution_count": 83,
   "metadata": {},
   "outputs": [],
   "source": [
    "svm_clf = svm_grid.best_estimator_\n",
    "scores = cross_val_score(svm_clf, x_test, y_test, cv=10)"
   ]
  },
  {
   "cell_type": "code",
   "execution_count": 93,
   "metadata": {},
   "outputs": [],
   "source": [
    "# 9 degrees of freedome 95% two tailed CI\n",
    "t = 2.262\n",
    "mean = np.mean(scores)\n",
    "se = np.std(scores)/10\n",
    "ci = [mean - (t*se), mean + (t*se)]"
   ]
  },
  {
   "cell_type": "code",
   "execution_count": 94,
   "metadata": {},
   "outputs": [
    {
     "name": "stdout",
     "output_type": "stream",
     "text": [
      "95% Confidence Interval: [0.5745889293401935, 0.6134110706598065]\n"
     ]
    }
   ],
   "source": [
    "print(\"95% Confidence Interval: [{}, {}]\".format(ci[0], ci[1]))"
   ]
  },
  {
   "cell_type": "code",
   "execution_count": 96,
   "metadata": {},
   "outputs": [
    {
     "data": {
      "text/plain": [
       "array([0.58, 0.62, 0.62, 0.64, 0.64, 0.42, 0.76, 0.6 , 0.5 , 0.56, 0.58,\n",
       "       0.62, 0.62, 0.64, 0.64, 0.42, 0.76, 0.6 , 0.5 , 0.56])"
      ]
     },
     "execution_count": 96,
     "metadata": {},
     "output_type": "execute_result"
    }
   ],
   "source": [
    "np.concatenate((scores, scores))"
   ]
  },
  {
   "cell_type": "code",
   "execution_count": 100,
   "metadata": {},
   "outputs": [
    {
     "data": {
      "text/plain": [
       "10"
      ]
     },
     "execution_count": 100,
     "metadata": {},
     "output_type": "execute_result"
    }
   ],
   "source": [
    "len(scores)"
   ]
  },
  {
   "cell_type": "code",
   "execution_count": 102,
   "metadata": {},
   "outputs": [],
   "source": [
    "def get_ci(scores):\n",
    "    '''\n",
    "    19 degrees of freedome 95% two tailed CI\n",
    "    '''\n",
    "    t = 2.093\n",
    "    mean = np.mean(scores)\n",
    "    se = np.std(scores)/len(scores)\n",
    "    ci = [mean - (t*se), mean + (t*se)]\n",
    "    print(\"95% Confidence Interval: [{}, {}]\".format(ci[0], ci[1]))"
   ]
  },
  {
   "cell_type": "code",
   "execution_count": 158,
   "metadata": {},
   "outputs": [],
   "source": [
    "grid0 = pickle.load(open('RandomForest0_GridSearch.sav', 'rb'))\n",
    "res0 = grid0.cv_results_\n",
    "grid1 = pickle.load(open('RandomForest0_GridSearch.sav', 'rb'))\n",
    "res1 = grid1.cv_results_"
   ]
  },
  {
   "cell_type": "code",
   "execution_count": 168,
   "metadata": {},
   "outputs": [],
   "source": [
    "grid0 = pickle.load(open('NonLinearSVC0_GridSearch.sav', 'rb'))\n",
    "res0 = grid0.cv_results_\n",
    "grid1 = pickle.load(open('NonLinearSVC1_GridSearch.sav', 'rb'))\n",
    "res1 = grid1.cv_results_"
   ]
  },
  {
   "cell_type": "code",
   "execution_count": 163,
   "metadata": {},
   "outputs": [
    {
     "data": {
      "text/plain": [
       "dict_keys(['mean_fit_time', 'std_fit_time', 'mean_score_time', 'std_score_time', 'param_max_depth', 'param_max_features', 'param_n_estimators', 'params', 'split0_test_score', 'split1_test_score', 'split2_test_score', 'split3_test_score', 'split4_test_score', 'split5_test_score', 'split6_test_score', 'split7_test_score', 'split8_test_score', 'split9_test_score', 'mean_test_score', 'std_test_score', 'rank_test_score'])"
      ]
     },
     "execution_count": 163,
     "metadata": {},
     "output_type": "execute_result"
    }
   ],
   "source": [
    "res0.keys()"
   ]
  },
  {
   "cell_type": "code",
   "execution_count": 166,
   "metadata": {},
   "outputs": [
    {
     "data": {
      "text/plain": [
       "array([0.6  , 0.6  , 0.622, 0.616, 0.616, 0.604, 0.614, 0.618, 0.622,\n",
       "       0.632, 0.588, 0.594, 0.586, 0.596, 0.594, 0.606, 0.628, 0.62 ,\n",
       "       0.616, 0.624, 0.616, 0.612, 0.616, 0.618, 0.628, 0.58 , 0.59 ,\n",
       "       0.59 , 0.596, 0.59 , 0.61 , 0.618, 0.606, 0.626, 0.624, 0.602,\n",
       "       0.61 , 0.604, 0.62 , 0.62 , 0.578, 0.594, 0.588, 0.602, 0.598,\n",
       "       0.614, 0.616, 0.62 , 0.608, 0.618, 0.618, 0.614, 0.616, 0.618,\n",
       "       0.62 , 0.602, 0.59 , 0.608, 0.602, 0.592, 0.612, 0.62 , 0.612,\n",
       "       0.612, 0.626, 0.584, 0.604, 0.632, 0.624, 0.624, 0.588, 0.59 ,\n",
       "       0.59 , 0.594, 0.586])"
      ]
     },
     "execution_count": 166,
     "metadata": {},
     "output_type": "execute_result"
    }
   ],
   "source": [
    "res0['mean_test_score']"
   ]
  },
  {
   "cell_type": "code",
   "execution_count": 167,
   "metadata": {},
   "outputs": [
    {
     "ename": "AttributeError",
     "evalue": "'GridSearchCV' object has no attribute 'grid_scores_'",
     "output_type": "error",
     "traceback": [
      "\u001b[0;31m---------------------------------------------------------------------------\u001b[0m",
      "\u001b[0;31mAttributeError\u001b[0m                            Traceback (most recent call last)",
      "\u001b[0;32m<ipython-input-167-4e3ed01d0186>\u001b[0m in \u001b[0;36m<module>\u001b[0;34m\u001b[0m\n\u001b[0;32m----> 1\u001b[0;31m \u001b[0mgrid0\u001b[0m\u001b[0;34m.\u001b[0m\u001b[0mgrid_scores_\u001b[0m\u001b[0;34m\u001b[0m\u001b[0;34m\u001b[0m\u001b[0m\n\u001b[0m",
      "\u001b[0;31mAttributeError\u001b[0m: 'GridSearchCV' object has no attribute 'grid_scores_'"
     ]
    }
   ],
   "source": []
  },
  {
   "cell_type": "code",
   "execution_count": 169,
   "metadata": {},
   "outputs": [],
   "source": [
    "name=\"NonLinearSVC0_\""
   ]
  },
  {
   "cell_type": "code",
   "execution_count": 171,
   "metadata": {},
   "outputs": [
    {
     "data": {
      "text/plain": [
       "'NonLinearSVC'"
      ]
     },
     "execution_count": 171,
     "metadata": {},
     "output_type": "execute_result"
    }
   ],
   "source": [
    "name[0:len(name)-2]"
   ]
  },
  {
   "cell_type": "code",
   "execution_count": 174,
   "metadata": {},
   "outputs": [
    {
     "data": {
      "text/plain": [
       "'NonLinearSVC_out.txt'"
      ]
     },
     "execution_count": 174,
     "metadata": {},
     "output_type": "execute_result"
    }
   ],
   "source": [
    "\"{}_out.txt\".format(name[0:len(name)-2])"
   ]
  },
  {
   "cell_type": "code",
   "execution_count": null,
   "metadata": {},
   "outputs": [],
   "source": []
  }
 ],
 "metadata": {
  "kernelspec": {
   "display_name": "Python 3",
   "language": "python",
   "name": "python3"
  },
  "language_info": {
   "codemirror_mode": {
    "name": "ipython",
    "version": 3
   },
   "file_extension": ".py",
   "mimetype": "text/x-python",
   "name": "python",
   "nbconvert_exporter": "python",
   "pygments_lexer": "ipython3",
   "version": "3.8.1"
  }
 },
 "nbformat": 4,
 "nbformat_minor": 4
}
