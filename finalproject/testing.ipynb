{
 "cells": [
  {
   "cell_type": "code",
   "execution_count": 4,
   "metadata": {},
   "outputs": [],
   "source": [
    "import numpy as np\n",
    "import pandas as pd\n",
    "import os.path, matplotlib\n",
    "import matplotlib.pyplot\n",
    "from mpl_toolkits.mplot3d import Axes3D\n",
    "from sklearn.model_selection import train_test_split\n",
    "from sklearn.preprocessing import StandardScaler\n",
    "from sklearn import linear_model\n",
    "from sklearn.decomposition import PCA\n",
    "from sklearn.svm import SVC\n",
    "from sklearn.svm import LinearSVC\n",
    "from sklearn.multiclass import OneVsRestClassifier\n",
    "from sklearn.model_selection import GridSearchCV\n",
    "from sklearn.ensemble import RandomForestClassifier\n",
    "import pickle\n",
    "import time"
   ]
  },
  {
   "cell_type": "code",
   "execution_count": 5,
   "metadata": {},
   "outputs": [],
   "source": [
    "def preprocess_data(data, center=True):\n",
    "    '''\n",
    "    centers and splits the data for testing and training\n",
    "    returns x_train, x_test, y_train, y_test\n",
    "    '''\n",
    "    label = data.label\n",
    "    df = data.drop(['label','filename'], axis=1)\n",
    "    if center:\n",
    "        scaler = StandardScaler()\n",
    "        scaler.fit(df)\n",
    "        df = scaler.transform(df)\n",
    "    return train_test_split(df, label, test_size=0.5)"
   ]
  },
  {
   "cell_type": "code",
   "execution_count": 6,
   "metadata": {},
   "outputs": [],
   "source": [
    "def gridsearch(classifier, params, x_train, y_train, name=\"Test_\"):\n",
    "    '''\n",
    "    Uses GridSearchCV to tune hyperparameters and saves the GridSearchCV results\n",
    "    Trains the classifier with the best parameters and scores the model\n",
    "    '''\n",
    "    start_time = time.time()\n",
    "    clf = GridSearchCV(classifier, params, n_jobs=-1, cv=10)\n",
    "    grid = clf.fit(x_train, y_train)\n",
    "    print(\"GridSearchCV elapsed time: {}\".format(time.time() - start_time))\n",
    "\n",
    "    # best_params = grid.best_params_\n",
    "    # best_score = grid.best_score_\n",
    "    # print(\"{}GridSearch \\nBest params: {} \\nScore: {}\".format(name, best_params, best_score))\n",
    "    \n",
    "    # Saves GridSearch Result\n",
    "    filename = \"{}GridSearch.sav\".format(name)\n",
    "    pickle.dump(grid, open(filename, 'wb'))\n",
    "    return grid"
   ]
  },
  {
   "cell_type": "code",
   "execution_count": 31,
   "metadata": {},
   "outputs": [],
   "source": [
    "def rfc(data, center=True):\n",
    "    '''\n",
    "    Uses GridSearchCV to tune hyperparameters for RandomForestClassification\n",
    "    Saves the grid results to a pickle\n",
    "    '''\n",
    "    x_train, x_test, y_train, y_test = preprocess_data(data)\n",
    "    n_estimators = [int(x) for x in np.linspace(start = 10, stop = 500, num = 5)]\n",
    "    max_depth = [int(x) for x in np.linspace(start = 10, stop = 500, num = 5)]\n",
    "    max_features = ['sqrt','log2', None]\n",
    "    params = {\n",
    "        'n_estimators': n_estimators,\n",
    "        'max_depth': max_depth,\n",
    "        'max_features': max_features,\n",
    "    }\n",
    "    grid = gridsearch(RandomForestClassifier(), params, x_train, y_train, name=\"RandomForest_\")\n",
    "    return grid"
   ]
  },
  {
   "cell_type": "code",
   "execution_count": 8,
   "metadata": {},
   "outputs": [],
   "source": [
    "data = pd.read_csv('data/data.csv')"
   ]
  },
  {
   "cell_type": "code",
   "execution_count": null,
   "metadata": {},
   "outputs": [],
   "source": [
    "rfc_grid = rfc(data)"
   ]
  },
  {
   "cell_type": "code",
   "execution_count": 9,
   "metadata": {},
   "outputs": [],
   "source": [
    "def non_linear_svm(data, center=True):\n",
    "    x_train, x_test, y_train, y_test = preprocess_data(data)\n",
    "    C = np.logspace(-2, 4, 7)\n",
    "    gamma = np.logspace(-3, 3, 7)\n",
    "    kernel = ['poly', 'rbf', 'sigmoid']\n",
    "    params = {\n",
    "        'C': C,\n",
    "        'gamma': gamma,\n",
    "        'kernel': kernel,\n",
    "    }\n",
    "    grid = gridsearch(SVC(), params, x_train, y_train, name=\"NonLinearSVC_\")\n",
    "    return grid"
   ]
  },
  {
   "cell_type": "code",
   "execution_count": 11,
   "metadata": {},
   "outputs": [
    {
     "name": "stdout",
     "output_type": "stream",
     "text": [
      "GridSearchCV elapsed time: 4.168776988983154\n"
     ]
    }
   ],
   "source": [
    "svm_grid = non_linear_svm(data)"
   ]
  },
  {
   "cell_type": "code",
   "execution_count": 22,
   "metadata": {},
   "outputs": [],
   "source": [
    "res = svm_grid.cv_results_"
   ]
  },
  {
   "cell_type": "code",
   "execution_count": 23,
   "metadata": {},
   "outputs": [],
   "source": [
    "import matplotlib.pyplot as plt\n"
   ]
  },
  {
   "cell_type": "code",
   "execution_count": 24,
   "metadata": {},
   "outputs": [
    {
     "data": {
      "text/plain": [
       "array([0.112, 0.112, 0.112, 0.112, 0.112, 0.112, 0.414, 0.112, 0.208,\n",
       "       0.576, 0.112, 0.224, 0.576, 0.112, 0.226, 0.576, 0.112, 0.228,\n",
       "       0.576, 0.112, 0.228, 0.112, 0.112, 0.112, 0.112, 0.36 , 0.358,\n",
       "       0.584, 0.198, 0.356, 0.576, 0.112, 0.308, 0.576, 0.112, 0.3  ,\n",
       "       0.576, 0.112, 0.302, 0.576, 0.112, 0.308, 0.112, 0.362, 0.358,\n",
       "       0.192, 0.528, 0.49 , 0.586, 0.61 , 0.282, 0.576, 0.132, 0.2  ,\n",
       "       0.576, 0.128, 0.218, 0.576, 0.12 , 0.218, 0.576, 0.12 , 0.216,\n",
       "       0.112, 0.542, 0.492, 0.414, 0.644, 0.584, 0.576, 0.64 , 0.266,\n",
       "       0.576, 0.146, 0.228, 0.576, 0.128, 0.23 , 0.576, 0.12 , 0.24 ,\n",
       "       0.576, 0.12 , 0.23 , 0.112, 0.614, 0.592, 0.584, 0.596, 0.568,\n",
       "       0.576, 0.64 , 0.274, 0.576, 0.146, 0.234, 0.576, 0.128, 0.214,\n",
       "       0.576, 0.12 , 0.236, 0.576, 0.12 , 0.23 , 0.192, 0.6  , 0.584,\n",
       "       0.586, 0.6  , 0.526, 0.576, 0.64 , 0.264, 0.576, 0.146, 0.23 ,\n",
       "       0.576, 0.128, 0.216, 0.576, 0.12 , 0.23 , 0.576, 0.12 , 0.23 ,\n",
       "       0.414, 0.6  , 0.57 , 0.576, 0.6  , 0.508, 0.576, 0.64 , 0.272,\n",
       "       0.576, 0.146, 0.232, 0.576, 0.128, 0.216, 0.576, 0.12 , 0.228,\n",
       "       0.576, 0.12 , 0.232])"
      ]
     },
     "execution_count": 24,
     "metadata": {},
     "output_type": "execute_result"
    }
   ],
   "source": [
    "res['mean_test_score']"
   ]
  },
  {
   "cell_type": "code",
   "execution_count": 26,
   "metadata": {},
   "outputs": [
    {
     "ename": "NameError",
     "evalue": "name 'grid_param_2' is not defined",
     "output_type": "error",
     "traceback": [
      "\u001b[0;31m---------------------------------------------------------------------------\u001b[0m",
      "\u001b[0;31mNameError\u001b[0m                                 Traceback (most recent call last)",
      "\u001b[0;32m<ipython-input-26-7873c1840734>\u001b[0m in \u001b[0;36m<module>\u001b[0;34m\u001b[0m\n\u001b[0;32m----> 1\u001b[0;31m \u001b[0mnp\u001b[0m\u001b[0;34m.\u001b[0m\u001b[0marray\u001b[0m\u001b[0;34m(\u001b[0m\u001b[0mres\u001b[0m\u001b[0;34m[\u001b[0m\u001b[0;34m'mean_test_score'\u001b[0m\u001b[0;34m]\u001b[0m\u001b[0;34m)\u001b[0m\u001b[0;34m.\u001b[0m\u001b[0mreshape\u001b[0m\u001b[0;34m(\u001b[0m\u001b[0mlen\u001b[0m\u001b[0;34m(\u001b[0m\u001b[0mgrid_param_2\u001b[0m\u001b[0;34m)\u001b[0m\u001b[0;34m,\u001b[0m\u001b[0mlen\u001b[0m\u001b[0;34m(\u001b[0m\u001b[0mgrid_param_1\u001b[0m\u001b[0;34m)\u001b[0m\u001b[0;34m)\u001b[0m\u001b[0;34m\u001b[0m\u001b[0;34m\u001b[0m\u001b[0m\n\u001b[0m",
      "\u001b[0;31mNameError\u001b[0m: name 'grid_param_2' is not defined"
     ]
    }
   ],
   "source": [
    "np.array(res['mean_test_score']).reshape(len(grid_param_2),len(grid_param_1))"
   ]
  },
  {
   "cell_type": "code",
   "execution_count": null,
   "metadata": {},
   "outputs": [],
   "source": []
  }
 ],
 "metadata": {
  "kernelspec": {
   "display_name": "Python 3",
   "language": "python",
   "name": "python3"
  },
  "language_info": {
   "codemirror_mode": {
    "name": "ipython",
    "version": 3
   },
   "file_extension": ".py",
   "mimetype": "text/x-python",
   "name": "python",
   "nbconvert_exporter": "python",
   "pygments_lexer": "ipython3",
   "version": "3.8.1"
  }
 },
 "nbformat": 4,
 "nbformat_minor": 4
}
